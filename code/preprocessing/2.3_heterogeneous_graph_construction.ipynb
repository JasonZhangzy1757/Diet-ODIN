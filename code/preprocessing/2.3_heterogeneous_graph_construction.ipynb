{
 "cells": [
  {
   "cell_type": "code",
   "execution_count": 1,
   "metadata": {
    "collapsed": true,
    "id": "NK5_CITHlWUW",
    "outputId": "0f205a5f-5cc3-408e-b896-0e8144079180",
    "ExecuteTime": {
     "end_time": "2023-12-29T15:35:57.414785700Z",
     "start_time": "2023-12-29T15:35:48.055634400Z"
    }
   },
   "outputs": [
    {
     "name": "stderr",
     "output_type": "stream",
     "text": [
      "D:\\anaconda\\envs\\Jason_2\\lib\\site-packages\\tqdm\\auto.py:21: TqdmWarning: IProgress not found. Please update jupyter and ipywidgets. See https://ipywidgets.readthedocs.io/en/stable/user_install.html\n",
      "  from .autonotebook import tqdm as notebook_tqdm\n"
     ]
    }
   ],
   "source": [
    "from torch_geometric.data import HeteroData\n",
    "from utils import *\n",
    "from sklearn.decomposition import PCA\n",
    "from sklearn.preprocessing import StandardScaler, MinMaxScaler\n",
    "from tqdm import tqdm\n",
    "import random\n",
    "\n",
    "import warnings\n",
    "warnings.filterwarnings('ignore')"
   ]
  },
  {
   "cell_type": "code",
   "execution_count": 2,
   "outputs": [],
   "source": [
    "PCA_FLAG = False\n",
    "LESS_IMBALANCE_FLAG = False\n",
    "POSITIVE_RATIO = 1\n",
    "ADD_MEDICAL = False\n",
    "LLM_FLAG = False\n",
    "SAMPLING_FLAG = False\n",
    "SAMPLING_SIZE = 100"
   ],
   "metadata": {
    "id": "Zh2-y1xrFiK9",
    "ExecuteTime": {
     "end_time": "2023-12-29T15:35:57.429062900Z",
     "start_time": "2023-12-29T15:35:57.415903900Z"
    }
   }
  },
  {
   "cell_type": "code",
   "execution_count": 3,
   "outputs": [],
   "source": [
    "# Load datasets\n",
    "food_ingredients_df = pd.read_csv('../processed_data/food_ingredients.csv', dtype=str)\n",
    "user_food_df = pd.read_csv('../processed_data/user_food.csv', dtype=str)\n",
    "df_demo = pd.read_csv('../processed_data/main_table.csv', dtype=str)\n",
    "user_habit_df = pd.read_csv('../processed_data/user_habit_10.csv', dtype=str)\n",
    "user_medicine_df = pd.read_csv('../processed_data/user_prescription_medicine.csv', dtype=str)"
   ],
   "metadata": {
    "id": "RDUf-yIhlWUX",
    "ExecuteTime": {
     "end_time": "2023-12-29T15:36:02.671427300Z",
     "start_time": "2023-12-29T15:35:57.431093300Z"
    }
   }
  },
  {
   "cell_type": "code",
   "execution_count": 4,
   "outputs": [],
   "source": [
    "df_demo = df_demo.fillna(0)\n",
    "df_demo['label'] = df_demo['label'].astype(float).astype(int).astype(str)"
   ],
   "metadata": {
    "id": "VCCOPyeWFiK-",
    "ExecuteTime": {
     "end_time": "2023-12-29T15:36:02.729233800Z",
     "start_time": "2023-12-29T15:36:02.687374900Z"
    }
   }
  },
  {
   "cell_type": "code",
   "execution_count": 5,
   "outputs": [],
   "source": [
    "random.seed(42)\n",
    "if LESS_IMBALANCE_FLAG:\n",
    "    user_food_df_pos = user_food_df.loc[user_food_df['SEQN'].isin(df_demo.loc[df_demo['label'] == '1']['SEQN'].unique())]\n",
    "    if SAMPLING_FLAG:\n",
    "        unique_pos_SEQN = random.sample(user_food_df_pos['SEQN'].unique().tolist(), k=SAMPLING_SIZE)\n",
    "        user_food_df_pos = user_food_df.loc[user_food_df['SEQN'].isin(unique_pos_SEQN)]\n",
    "\n",
    "    df_demo_pos = df_demo.loc[df_demo['SEQN'].isin(user_food_df_pos['SEQN'].unique())]\n",
    "\n",
    "    user_food_df_neg = user_food_df.loc[user_food_df['SEQN'].isin(df_demo.loc[df_demo['label'] == '0']['SEQN'].unique())]\n",
    "    unique_neg_SEQN = random.sample(user_food_df_neg['SEQN'].unique().tolist(), k=POSITIVE_RATIO*len(df_demo_pos))\n",
    "\n",
    "    user_food_df_neg = user_food_df.loc[user_food_df['SEQN'].isin(unique_neg_SEQN)]\n",
    "    user_food_df = pd.concat([user_food_df_pos, user_food_df_neg])\n",
    "    df_demo = df_demo.loc[df_demo['SEQN'].isin(user_food_df['SEQN'].unique())]"
   ],
   "metadata": {
    "id": "_0zjL9ciFiK_",
    "ExecuteTime": {
     "end_time": "2023-12-29T15:36:02.744138100Z",
     "start_time": "2023-12-29T15:36:02.734217400Z"
    }
   }
  },
  {
   "cell_type": "code",
   "execution_count": 6,
   "outputs": [],
   "source": [
    "user_habit_df = user_habit_df.rename(columns={'habitID': 'habit_id', 'habitDesc': 'habit_desc'})\n",
    "user_habit_df = user_habit_df.loc[user_habit_df['SEQN'].isin(user_food_df['SEQN'].unique())]\n",
    "user_medicine_df = user_medicine_df.loc[user_medicine_df['SEQN'].isin(user_food_df['SEQN'].unique())]"
   ],
   "metadata": {
    "id": "L_Aq5YXAFiK_",
    "ExecuteTime": {
     "end_time": "2023-12-29T15:36:02.954380200Z",
     "start_time": "2023-12-29T15:36:02.746146600Z"
    }
   }
  },
  {
   "cell_type": "code",
   "execution_count": 7,
   "outputs": [],
   "source": [
    "food_ingredients_df = food_ingredients_df.loc[food_ingredients_df['food_id'].isin(user_food_df['food_id'].unique())]"
   ],
   "metadata": {
    "id": "wiIHanyWFiLA",
    "ExecuteTime": {
     "end_time": "2023-12-29T15:36:03.044011100Z",
     "start_time": "2023-12-29T15:36:02.956408400Z"
    }
   }
  },
  {
   "cell_type": "code",
   "execution_count": 8,
   "outputs": [],
   "source": [
    "food_ingredients_df['WWEIA_id'] = food_ingredients_df['WWEIA_id'].str.zfill(4)\n",
    "food_ingredients_df['ingredient_id'] = food_ingredients_df['ingredient_id'].str.zfill(8)\n",
    "food_ingredients_df['food_id'] = food_ingredients_df['food_id'].str.zfill(10)\n",
    "user_food_df['food_id'] = user_food_df['food_id'].str.zfill(10)\n",
    "user_habit_df['habit_id'] = user_habit_df['habit_id'].str.zfill(2)"
   ],
   "metadata": {
    "id": "q0VcmOINlWUY",
    "ExecuteTime": {
     "end_time": "2023-12-29T15:36:03.479305Z",
     "start_time": "2023-12-29T15:36:03.047001400Z"
    }
   }
  },
  {
   "cell_type": "code",
   "execution_count": 9,
   "outputs": [],
   "source": [
    "# Create unique identifiers and map them to integers\n",
    "unique_food_ids = np.array(list(set(user_food_df['food_id'].tolist()).union(set(food_ingredients_df['food_id'].tolist()))))\n",
    "unique_ingredient_ids = food_ingredients_df['ingredient_id'].unique()\n",
    "unique_wweia_ids = food_ingredients_df['WWEIA_id'].unique()\n",
    "unique_user_ids = user_food_df['SEQN'].unique()\n",
    "unique_habit_ids = user_habit_df['habit_id'].unique()\n",
    "unique_medicine_ids = user_medicine_df['RXDDRGID'].unique()"
   ],
   "metadata": {
    "id": "95MjdDxkFiLB",
    "ExecuteTime": {
     "end_time": "2023-12-29T15:36:03.673609100Z",
     "start_time": "2023-12-29T15:36:03.481265700Z"
    }
   }
  },
  {
   "cell_type": "code",
   "execution_count": 10,
   "outputs": [],
   "source": [
    "food_to_int = {food_id: i for i, food_id in enumerate(unique_food_ids)}\n",
    "ingredient_to_int = {ingredient_id: i for i, ingredient_id in enumerate(unique_ingredient_ids)}\n",
    "wweia_to_int = {wweia_id: i for i, wweia_id in enumerate(unique_wweia_ids)}\n",
    "user_to_int = {user_id: i for i, user_id in enumerate(unique_user_ids)}\n",
    "habit_to_int = {habit_id: i for i, habit_id in enumerate(unique_habit_ids)}\n",
    "medicine_to_int = {medicine_id: i for i, medicine_id in enumerate(unique_medicine_ids)}"
   ],
   "metadata": {
    "id": "rOe1VtSQFiLB",
    "ExecuteTime": {
     "end_time": "2023-12-29T15:36:03.688559500Z",
     "start_time": "2023-12-29T15:36:03.675631900Z"
    }
   }
  },
  {
   "cell_type": "code",
   "execution_count": 11,
   "outputs": [],
   "source": [
    "# # Create a mapping from original ID to new integer ID\n",
    "# int_to_id = list(unique_user_ids) + list(unique_food_ids) + list(unique_ingredient_ids) +  list(unique_wweia_ids) + list(unique_habit_ids)\n",
    "# id_to_int = {original_id: i for i, original_id in enumerate(int_to_id)}"
   ],
   "metadata": {
    "id": "afiDx9UHFiLC",
    "ExecuteTime": {
     "end_time": "2023-12-29T15:36:03.714701700Z",
     "start_time": "2023-12-29T15:36:03.688559500Z"
    }
   }
  },
  {
   "cell_type": "code",
   "execution_count": 12,
   "outputs": [],
   "source": [
    "\"\"\"\n",
    "if a user doesn't have food records, we discard it.\n",
    "\"\"\"\n",
    "# Create edges between food and ingredient nodes\n",
    "food_ingredient_edges = torch.tensor(\n",
    "    [[food_to_int[food_id], ingredient_to_int[ingredient_id]] for food_id, ingredient_id in zip(food_ingredients_df['food_id'], food_ingredients_df['ingredient_id'])],\n",
    "    dtype=torch.long\n",
    ").t().contiguous()\n",
    "\n",
    "# Create edges between food and category nodes\n",
    "food_category_edges = torch.tensor(\n",
    "    [[food_to_int[food_id], wweia_to_int[category_id]] for food_id, category_id in zip(food_ingredients_df['food_id'], food_ingredients_df['WWEIA_id'])],\n",
    "    dtype=torch.long\n",
    ").t().contiguous()\n",
    "\n",
    "# Create edges between user and food nodes\n",
    "user_food_edges = torch.tensor(\n",
    "    [[user_to_int[user_id], food_to_int[food_id]] for user_id, food_id in zip(user_food_df['SEQN'], user_food_df['food_id'])],\n",
    "    dtype=torch.long\n",
    ").t().contiguous()\n",
    "\n",
    "# Create edges between user and habit nodes\n",
    "user_habit_edges = torch.tensor(\n",
    "    [[user_to_int[user_id], habit_to_int[habit_id]] for user_id, habit_id in zip(user_habit_df['SEQN'], user_habit_df['habit_id'])],\n",
    "    dtype=torch.long\n",
    ").t().contiguous()\n",
    "\n",
    "# Create edges between user and medicine nodes\n",
    "user_medicine_edges = torch.tensor(\n",
    "    [[user_to_int[user_id], medicine_to_int[medicine_id]] for user_id, medicine_id in zip(user_medicine_df['SEQN'], user_medicine_df['RXDDRGID'])],\n",
    "    dtype=torch.long\n",
    ").t().contiguous()"
   ],
   "metadata": {
    "id": "evkt8ULtFiLC",
    "ExecuteTime": {
     "end_time": "2023-12-29T15:36:06.000434800Z",
     "start_time": "2023-12-29T15:36:03.706707Z"
    }
   }
  },
  {
   "cell_type": "code",
   "execution_count": 13,
   "outputs": [],
   "source": [
    "graph = HeteroData()\n",
    "graph['user']['node_id'] = unique_user_ids\n",
    "graph['food']['node_id'] = unique_food_ids\n",
    "graph['ingredient']['node_id']= unique_ingredient_ids\n",
    "graph['category']['node_id'] = unique_wweia_ids\n",
    "graph['habit']['node_id'] = unique_habit_ids\n",
    "graph['medicine']['node_id'] = unique_medicine_ids\n",
    "\n",
    "graph['user', 'eats', 'food'].edge_index = user_food_edges\n",
    "graph['food', 'contains', 'ingredient'].edge_index = food_ingredient_edges\n",
    "graph['food', 'belongs_to', 'category'].edge_index = food_category_edges\n",
    "graph['user', 'has', 'habit'].edge_index = user_habit_edges\n",
    "graph['user', 'takes', 'medicine'].edge_index = user_medicine_edges"
   ],
   "metadata": {
    "id": "HF27riE0FiLC",
    "ExecuteTime": {
     "end_time": "2023-12-29T15:36:06.016104300Z",
     "start_time": "2023-12-29T15:36:06.003551100Z"
    }
   }
  },
  {
   "cell_type": "code",
   "execution_count": 14,
   "outputs": [
    {
     "data": {
      "text/plain": "HeteroData(\n  user={ node_id=[83352] },\n  food={ node_id=[9640] },\n  ingredient={ node_id=[3355] },\n  category={ node_id=[174] },\n  habit={ node_id=[54] },\n  medicine={ node_id=[1264] },\n  (user, eats, food)={ edge_index=[2, 2322627] },\n  (food, contains, ingredient)={ edge_index=[2, 32229] },\n  (food, belongs_to, category)={ edge_index=[2, 32229] },\n  (user, has, habit)={ edge_index=[2, 758227] },\n  (user, takes, medicine)={ edge_index=[2, 117008] }\n)"
     },
     "execution_count": 14,
     "metadata": {},
     "output_type": "execute_result"
    }
   ],
   "source": [
    "graph"
   ],
   "metadata": {
    "id": "jtmszz7KFiLC",
    "outputId": "875ed2f7-e9f6-47e3-f5df-e9433fe7e7a2",
    "ExecuteTime": {
     "end_time": "2023-12-29T15:36:06.060238400Z",
     "start_time": "2023-12-29T15:36:06.021089300Z"
    }
   }
  },
  {
   "cell_type": "markdown",
   "source": [
    "#### Add features and labels to user nodes"
   ],
   "metadata": {
    "collapsed": false,
    "id": "PbYfLpjGFiLD"
   }
  },
  {
   "cell_type": "code",
   "execution_count": 15,
   "outputs": [],
   "source": [
    "df_demo['user_prompt'] = df_demo.apply(user_prompt_adding, axis=1, result_type='expand')"
   ],
   "metadata": {
    "id": "mVb6TKohFiLE",
    "ExecuteTime": {
     "end_time": "2023-12-29T15:40:28.797385500Z",
     "start_time": "2023-12-29T15:40:27.931892200Z"
    }
   }
  },
  {
   "cell_type": "code",
   "execution_count": 16,
   "outputs": [],
   "source": [
    "df_demo['age'] = df_demo['age'].astype(int)\n",
    "# Transform ages to age groups\n",
    "bins = [-1, 10, 20, 30, 40, 50, 60, 100]\n",
    "labels = ['1', '2', '3', '4', '5', '6', '7']\n",
    "# Create a new column for age groups\n",
    "df_demo['age_group'] = pd.cut(df_demo['age'], bins=bins, labels=labels, right=True)\n",
    "df_demo.drop('age', axis=1, inplace=True)"
   ],
   "metadata": {
    "id": "4_iJgBDgFiLE",
    "ExecuteTime": {
     "end_time": "2023-12-29T15:40:28.830662200Z",
     "start_time": "2023-12-29T15:40:28.799463900Z"
    }
   }
  },
  {
   "cell_type": "code",
   "execution_count": 17,
   "outputs": [],
   "source": [
    "categorical_columns = ['gender', 'race', 'household_income', 'education', 'age_group']\n",
    "df_demo = onehot_encoding(df_demo, categorical_columns)"
   ],
   "metadata": {
    "id": "NjvWhpaFFiLE",
    "ExecuteTime": {
     "end_time": "2023-12-29T15:40:28.916691900Z",
     "start_time": "2023-12-29T15:40:28.828668800Z"
    }
   }
  },
  {
   "cell_type": "code",
   "execution_count": 18,
   "outputs": [],
   "source": [
    "df_demo['SEQN'] = df_demo['SEQN'].astype(str)\n",
    "df_demo = df_demo.set_index('SEQN')\n",
    "\n",
    "df_demo['label'].loc[df_demo['label'] == 2] = 0\n",
    "labels = df_demo['label'].astype(int)\n",
    "user_prompt = df_demo['user_prompt']\n",
    "\n",
    "df_demo.drop(['years', 'weight_interview', 'weight_mec', 'label', 'user_prompt'], axis=1, inplace=True)\n",
    "df_demo = df_demo.astype(float).astype(int)"
   ],
   "metadata": {
    "id": "l9mUYO-9lWUY",
    "ExecuteTime": {
     "end_time": "2023-12-29T15:40:29.188134900Z",
     "start_time": "2023-12-29T15:40:29.128728900Z"
    }
   }
  },
  {
   "cell_type": "code",
   "execution_count": 19,
   "outputs": [],
   "source": [
    "if ADD_MEDICAL:\n",
    "    df_medical = pd.read_csv('../processed_data/medical_table.csv', index_col='SEQN')\n",
    "    df_medical.index = df_medical.index.astype(str)\n",
    "\n",
    "    standard_scaler = StandardScaler()\n",
    "    minmax_scaler = MinMaxScaler()\n",
    "    df_standardized = pd.DataFrame(standard_scaler.fit_transform(df_medical), columns=df_medical.columns, index=df_medical.index)\n",
    "    df_medical = pd.DataFrame(minmax_scaler.fit_transform(df_standardized), columns=df_medical.columns, index=df_medical.index)\n",
    "\n",
    "    df_demo = df_demo.merge(df_medical, left_index=True, right_index=True, how='left')\n",
    "    df_demo = df_demo.fillna(0)"
   ],
   "metadata": {
    "id": "nMcRyfdoFiLF",
    "ExecuteTime": {
     "end_time": "2023-12-29T15:40:29.662989800Z",
     "start_time": "2023-12-29T15:40:29.658006Z"
    }
   }
  },
  {
   "cell_type": "code",
   "execution_count": 20,
   "outputs": [],
   "source": [
    "node_id_tensor = graph['user']['node_id']\n",
    "ordered_features = df_demo.loc[node_id_tensor.tolist()]\n",
    "ordered_labels = labels.loc[node_id_tensor.tolist()]\n",
    "ordered_prompt = user_prompt.loc[node_id_tensor.tolist()]\n",
    "ordered_feature_tensor = torch.tensor(ordered_features.values, dtype=torch.float32)\n",
    "ordered_labels_tensor = torch.tensor(ordered_labels.values, dtype=torch.int64)\n",
    "ordered_prompt_list = ordered_prompt.values.tolist()\n",
    "graph['user'].x = ordered_feature_tensor\n",
    "graph['user'].y = ordered_labels_tensor\n",
    "graph['user'].prompt = ordered_prompt_list"
   ],
   "metadata": {
    "id": "ehQ4k8SZFiLF",
    "ExecuteTime": {
     "end_time": "2023-12-29T15:40:30.161229900Z",
     "start_time": "2023-12-29T15:40:30.079653400Z"
    }
   }
  },
  {
   "cell_type": "code",
   "execution_count": 21,
   "outputs": [],
   "source": [
    "from transformers import BertTokenizer, BertModel, LlamaTokenizer, LlamaModel\n",
    "    # Tokenize input and get output from BERT model\n",
    "if not LLM_FLAG:\n",
    "    tokenizer = BertTokenizer.from_pretrained('bert-base-uncased')\n",
    "    model = BertModel.from_pretrained('bert-base-uncased')\n",
    "else:\n",
    "    tokenizer = LlamaTokenizer.from_pretrained('../llama-2-7b')\n",
    "    model = LlamaModel.from_pretrained('../llama-2-7b')"
   ],
   "metadata": {
    "id": "zhf9XA2tFiLF",
    "ExecuteTime": {
     "end_time": "2023-12-29T15:40:31.716317900Z",
     "start_time": "2023-12-29T15:40:30.487240100Z"
    }
   }
  },
  {
   "cell_type": "code",
   "execution_count": 22,
   "outputs": [],
   "source": [
    "def get_bert_embedding(sentence):\n",
    "    inputs = tokenizer(sentence, return_tensors=\"pt\")\n",
    "    with torch.no_grad():\n",
    "        outputs = model(**inputs)\n",
    "    # Extract the hidden states (last layer)\n",
    "    last_hidden_state = outputs.last_hidden_state\n",
    "    # Average the hidden states to get sentence embedding\n",
    "    sentence_embedding = torch.mean(last_hidden_state, dim=1).squeeze().numpy()\n",
    "\n",
    "    return sentence_embedding"
   ],
   "metadata": {
    "id": "WW25jRP2FiLF",
    "ExecuteTime": {
     "end_time": "2023-12-29T15:40:31.716317900Z",
     "start_time": "2023-12-29T15:40:31.706273500Z"
    }
   }
  },
  {
   "cell_type": "markdown",
   "source": [
    "#### Add features to food nodes"
   ],
   "metadata": {
    "collapsed": false,
    "id": "lJEYb0CWFiLF"
   }
  },
  {
   "cell_type": "code",
   "execution_count": 23,
   "outputs": [],
   "source": [
    "graph['food'].x = None"
   ],
   "metadata": {
    "id": "T9tjhPUiFiLG",
    "ExecuteTime": {
     "end_time": "2023-12-29T15:40:32.151542400Z",
     "start_time": "2023-12-29T15:40:32.134598100Z"
    }
   }
  },
  {
   "cell_type": "code",
   "execution_count": 24,
   "outputs": [],
   "source": [
    "food = pd.concat([user_food_df[['food_id', 'food_desc']],food_ingredients_df[['food_id', 'food_desc']]]).drop_duplicates(subset=['food_id'], keep='last')\n",
    "food = food.set_index('food_id')"
   ],
   "metadata": {
    "id": "YFbn_b0OFiLG",
    "ExecuteTime": {
     "end_time": "2023-12-29T15:40:32.762089200Z",
     "start_time": "2023-12-29T15:40:32.637478900Z"
    }
   }
  },
  {
   "cell_type": "code",
   "execution_count": 25,
   "outputs": [],
   "source": [
    "df_food_nutrition = pd.read_csv('../processed_data/food_nutrition.csv')\n",
    "df_food_nutrition['food_id'] = df_food_nutrition['food_id'].astype(int).astype(str)\n",
    "df_food_nutrition['food_id'] = df_food_nutrition['food_id'].str.zfill(10)\n",
    "df_food_nutrition = df_food_nutrition.set_index('food_id')\n",
    "\n",
    "standard_scaler = StandardScaler()\n",
    "minmax_scaler = MinMaxScaler()\n",
    "df_standardized = pd.DataFrame(standard_scaler.fit_transform(df_food_nutrition), columns=df_food_nutrition.columns, index=df_food_nutrition.index)\n",
    "df_food_nutrition = pd.DataFrame(minmax_scaler.fit_transform(df_standardized), columns=df_food_nutrition.columns, index=df_food_nutrition.index)\n",
    "\n",
    "food = food.merge(df_food_nutrition, left_index=True, right_index=True, how='left')\n",
    "food = food.fillna(0)"
   ],
   "metadata": {
    "id": "qQNxPekmFiLG",
    "ExecuteTime": {
     "end_time": "2023-12-29T15:40:34.034854100Z",
     "start_time": "2023-12-29T15:40:33.163844200Z"
    }
   }
  },
  {
   "cell_type": "code",
   "execution_count": 26,
   "outputs": [],
   "source": [
    "food['food_prompt'] = food.apply(food_prompt_adding, args=(df_food_nutrition.columns.tolist()[2:],), axis=1, result_type='expand')"
   ],
   "metadata": {
    "id": "gXaemjP4FiLG",
    "ExecuteTime": {
     "end_time": "2023-12-29T15:40:36.121100Z",
     "start_time": "2023-12-29T15:40:34.037843600Z"
    }
   }
  },
  {
   "cell_type": "code",
   "execution_count": 27,
   "outputs": [],
   "source": [
    "node_id_tensor = graph['food']['node_id']\n",
    "ordered_prompt = food['food_prompt'].loc[node_id_tensor.tolist()]\n",
    "ordered_prompt_list = ordered_prompt.values.tolist()\n",
    "graph['food'].prompt = ordered_prompt_list\n",
    "food.drop('food_prompt', axis=1, inplace=True)\n",
    "\n",
    "ordered_features = food.loc[node_id_tensor.tolist()]\n",
    "ordered_features_tensor = torch.tensor(ordered_features['food_desc'].apply(get_bert_embedding), dtype=torch.float32)\n",
    "ordered_features.drop('food_desc', axis=1, inplace=True)\n",
    "pca = PCA(n_components=100)\n",
    "if PCA_FLAG:\n",
    "    pca.fit(ordered_features_tensor)\n",
    "    reduced_embeddings = pca.transform(ordered_features_tensor)\n",
    "    reduced_embeddings = torch.tensor(reduced_embeddings, dtype=torch.float32)\n",
    "    ordered_features_tensor = torch.cat((reduced_embeddings, torch.tensor(ordered_features.values, dtype=torch.float32)), dim=1)\n",
    "    graph['food'].x = ordered_features_tensor\n",
    "else:\n",
    "    ordered_features_tensor = torch.cat((ordered_features_tensor, torch.tensor(ordered_features.values, dtype=torch.float32)), dim=1)\n",
    "    graph['food'].x = ordered_features_tensor"
   ],
   "metadata": {
    "id": "glZY4Nf7FiLG",
    "ExecuteTime": {
     "end_time": "2023-12-29T15:43:09.255264700Z",
     "start_time": "2023-12-29T15:40:36.122096600Z"
    }
   }
  },
  {
   "cell_type": "markdown",
   "source": [
    "#### Add features to ingredient nodes"
   ],
   "metadata": {
    "collapsed": false,
    "id": "0OSLxiHPFiLH"
   }
  },
  {
   "cell_type": "code",
   "execution_count": 28,
   "outputs": [],
   "source": [
    "graph['ingredient'].x = None\n",
    "ingredient = food_ingredients_df[['ingredient_id', 'ingredient_desc']].drop_duplicates(subset=['ingredient_id'], keep='last')\n",
    "ingredient = ingredient.set_index('ingredient_id')\n",
    "ingredient['ingredient_prompt'] = ingredient.apply(ingredient_prompt_adding, axis=1, result_type='expand')\n",
    "\n",
    "node_id_tensor = graph['ingredient']['node_id']\n",
    "ordered_prompt = ingredient['ingredient_prompt'].loc[node_id_tensor.tolist()]\n",
    "ordered_prompt_list = ordered_prompt.values.tolist()\n",
    "graph['ingredient'].prompt = ordered_prompt_list\n",
    "ingredient.drop('ingredient_prompt', axis=1, inplace=True)\n",
    "\n",
    "ordered_features = ingredient.loc[node_id_tensor.tolist()]\n",
    "ordered_features_tensor = torch.tensor(ordered_features['ingredient_desc'].apply(get_bert_embedding), dtype=torch.float32)\n",
    "if PCA_FLAG:\n",
    "    reduced_embeddings = pca.transform(ordered_features_tensor)\n",
    "    reduced_embeddings = torch.tensor(reduced_embeddings, dtype=torch.float32)\n",
    "    graph['ingredient'].x = reduced_embeddings\n",
    "else:\n",
    "    graph['ingredient'].x = ordered_features_tensor"
   ],
   "metadata": {
    "id": "GOZyn8xPFiLH",
    "ExecuteTime": {
     "end_time": "2023-12-29T15:44:03.679177600Z",
     "start_time": "2023-12-29T15:43:09.257247300Z"
    }
   }
  },
  {
   "cell_type": "markdown",
   "source": [
    "#### Add features to category nodes"
   ],
   "metadata": {
    "collapsed": false,
    "id": "LaPI7zHJFiLH"
   }
  },
  {
   "cell_type": "code",
   "execution_count": 29,
   "outputs": [],
   "source": [
    "graph['category'].x = None\n",
    "category = food_ingredients_df[['WWEIA_id', 'WWEIA_desc']].drop_duplicates(subset=['WWEIA_id'], keep='last')\n",
    "category = category.set_index('WWEIA_id')\n",
    "category['category_prompt'] = category.apply(category_prompt_adding, axis=1, result_type='expand')\n",
    "\n",
    "node_id_tensor = graph['category']['node_id']\n",
    "ordered_prompt = category['category_prompt'].loc[node_id_tensor.tolist()]\n",
    "ordered_prompt_list = ordered_prompt.values.tolist()\n",
    "graph['category'].prompt = ordered_prompt_list\n",
    "category.drop('category_prompt', axis=1, inplace=True)\n",
    "\n",
    "ordered_features = category.loc[node_id_tensor.tolist()]\n",
    "ordered_features_tensor = torch.tensor(ordered_features['WWEIA_desc'].apply(get_bert_embedding), dtype=torch.float32)\n",
    "if PCA_FLAG:\n",
    "    reduced_embeddings = pca.transform(ordered_features_tensor)\n",
    "    reduced_embeddings = torch.tensor(reduced_embeddings, dtype=torch.float32)\n",
    "    graph['category'].x = reduced_embeddings\n",
    "else:\n",
    "    graph['category'].x = ordered_features_tensor"
   ],
   "metadata": {
    "id": "3tT6iHhSFiLH",
    "ExecuteTime": {
     "end_time": "2023-12-29T15:44:06.256509500Z",
     "start_time": "2023-12-29T15:44:03.682167600Z"
    }
   }
  },
  {
   "cell_type": "markdown",
   "source": [
    "#### Add features to habit nodes"
   ],
   "metadata": {
    "collapsed": false,
    "id": "lByqqNmMFiLH"
   }
  },
  {
   "cell_type": "code",
   "execution_count": 30,
   "outputs": [],
   "source": [
    "graph['habit'].x = None\n",
    "habit = user_habit_df[['habit_id', 'habit_desc']].drop_duplicates(subset=['habit_id'], keep='last')\n",
    "habit = habit.set_index('habit_id')\n",
    "habit['habit_prompt'] = habit.apply(habit_prompt_adding, axis=1, result_type='expand')\n",
    "\n",
    "node_id_tensor = graph['habit']['node_id']\n",
    "ordered_prompt = habit['habit_prompt'].loc[node_id_tensor.tolist()]\n",
    "ordered_prompt_list = ordered_prompt.values.tolist()\n",
    "graph['habit'].prompt = ordered_prompt_list\n",
    "habit.drop('habit_prompt', axis=1, inplace=True)\n",
    "\n",
    "ordered_features = habit.loc[node_id_tensor.tolist()]\n",
    "ordered_features_tensor = torch.tensor(ordered_features['habit_desc'].apply(get_bert_embedding), dtype=torch.float32)\n",
    "if PCA_FLAG:\n",
    "    reduced_embeddings = pca.transform(ordered_features_tensor)\n",
    "    reduced_embeddings = torch.tensor(reduced_embeddings, dtype=torch.float32)\n",
    "    graph['habit'].x = reduced_embeddings\n",
    "else:\n",
    "    graph['habit'].x = ordered_features_tensor"
   ],
   "metadata": {
    "id": "rOkbtzHOFiLH",
    "ExecuteTime": {
     "end_time": "2023-12-29T15:44:07.097730500Z",
     "start_time": "2023-12-29T15:44:06.259502300Z"
    }
   }
  },
  {
   "cell_type": "markdown",
   "source": [
    "#### Add features to medicine nodes"
   ],
   "metadata": {
    "collapsed": false,
    "id": "TufPRp7cFiLI"
   }
  },
  {
   "cell_type": "code",
   "execution_count": 31,
   "outputs": [],
   "source": [
    "graph['medicine'].x = None\n",
    "category = user_medicine_df[['RXDDRGID', 'RXDDRUG']].drop_duplicates(subset=['RXDDRGID'], keep='last')\n",
    "category = category.set_index('RXDDRGID')\n",
    "node_id_tensor = graph['medicine']['node_id']\n",
    "ordered_features = category.loc[node_id_tensor.tolist()]\n",
    "ordered_features_tensor = torch.tensor(ordered_features['RXDDRUG'].str.lower().apply(get_bert_embedding), dtype=torch.float32)\n",
    "if PCA_FLAG:\n",
    "    reduced_embeddings = pca.transform(ordered_features_tensor)\n",
    "    reduced_embeddings = torch.tensor(reduced_embeddings, dtype=torch.float32)\n",
    "    graph['medicine'].x = reduced_embeddings\n",
    "else:\n",
    "    graph['medicine'].x = ordered_features_tensor"
   ],
   "metadata": {
    "id": "qhjeskGzFiLI",
    "ExecuteTime": {
     "end_time": "2023-12-29T15:44:26.291154700Z",
     "start_time": "2023-12-29T15:44:07.098727400Z"
    }
   }
  },
  {
   "cell_type": "code",
   "execution_count": 32,
   "outputs": [],
   "source": [
    "## We hope to build meta-paths but this graph is too big for it. We need sampling techniques to overcome it.\n",
    "source_nodes, dest_nodes = graph['user', 'eats', 'food'].edge_index\n",
    "graph['food', 'eaten', 'user'].edge_index = torch.stack([dest_nodes, source_nodes], dim=0)\n",
    "source_nodes, dest_nodes = graph['food', 'contains', 'ingredient'].edge_index\n",
    "graph['ingredient', 'in', 'food'].edge_index = torch.stack([dest_nodes, source_nodes], dim=0)\n",
    "source_nodes, dest_nodes = graph['food', 'belongs_to', 'category'].edge_index\n",
    "graph['category', 'contains', 'food'].edge_index = torch.stack([dest_nodes, source_nodes], dim=0)\n",
    "source_nodes, dest_nodes = graph['user', 'has', 'habit'].edge_index\n",
    "graph['habit', 'from', 'user'].edge_index = torch.stack([dest_nodes, source_nodes], dim=0)"
   ],
   "metadata": {
    "id": "vtrVGgZaFiLI",
    "ExecuteTime": {
     "end_time": "2023-12-29T15:44:26.305202700Z",
     "start_time": "2023-12-29T15:44:26.293149400Z"
    }
   }
  },
  {
   "cell_type": "code",
   "execution_count": 33,
   "outputs": [
    {
     "data": {
      "text/plain": "HeteroData(\n  user={\n    node_id=[83352],\n    x=[83352, 38],\n    y=[83352],\n    prompt=[83352],\n  },\n  food={\n    node_id=[9640],\n    prompt=[9640],\n    x=[9640, 814],\n  },\n  ingredient={\n    node_id=[3355],\n    prompt=[3355],\n    x=[3355, 768],\n  },\n  category={\n    node_id=[174],\n    prompt=[174],\n    x=[174, 768],\n  },\n  habit={\n    node_id=[54],\n    prompt=[54],\n    x=[54, 768],\n  },\n  medicine={\n    node_id=[1264],\n    x=[1264, 768],\n  },\n  (user, eats, food)={ edge_index=[2, 2322627] },\n  (food, contains, ingredient)={ edge_index=[2, 32229] },\n  (food, belongs_to, category)={ edge_index=[2, 32229] },\n  (user, has, habit)={ edge_index=[2, 758227] },\n  (user, takes, medicine)={ edge_index=[2, 117008] },\n  (food, eaten, user)={ edge_index=[2, 2322627] },\n  (ingredient, in, food)={ edge_index=[2, 32229] },\n  (category, contains, food)={ edge_index=[2, 32229] },\n  (habit, from, user)={ edge_index=[2, 758227] }\n)"
     },
     "execution_count": 33,
     "metadata": {},
     "output_type": "execute_result"
    }
   ],
   "source": [
    "graph"
   ],
   "metadata": {
    "id": "j8QA-0pKFiLI",
    "outputId": "4a65da70-02ca-4466-9b0c-281c0b159712",
    "ExecuteTime": {
     "end_time": "2023-12-29T15:44:26.349195500Z",
     "start_time": "2023-12-29T15:44:26.307196700Z"
    }
   }
  },
  {
   "cell_type": "code",
   "execution_count": 34,
   "outputs": [
    {
     "data": {
      "text/plain": "(['user', 'food', 'ingredient', 'category', 'habit', 'medicine'],\n [('user', 'eats', 'food'),\n  ('food', 'contains', 'ingredient'),\n  ('food', 'belongs_to', 'category'),\n  ('user', 'has', 'habit'),\n  ('user', 'takes', 'medicine'),\n  ('food', 'eaten', 'user'),\n  ('ingredient', 'in', 'food'),\n  ('category', 'contains', 'food'),\n  ('habit', 'from', 'user')])"
     },
     "execution_count": 34,
     "metadata": {},
     "output_type": "execute_result"
    }
   ],
   "source": [
    "graph.metadata()"
   ],
   "metadata": {
    "id": "loGLI-UXFiLN",
    "outputId": "a88a8ad1-eb08-4f4d-fbae-442a14badbcd",
    "ExecuteTime": {
     "end_time": "2023-12-29T15:44:26.356175400Z",
     "start_time": "2023-12-29T15:44:26.323189600Z"
    }
   }
  },
  {
   "cell_type": "code",
   "execution_count": 35,
   "outputs": [],
   "source": [
    "torch.save(graph, '../processed_data/heterogeneous_graph_768_raw.pt')"
   ],
   "metadata": {
    "id": "EAZmOZFBFiLN",
    "ExecuteTime": {
     "end_time": "2023-12-29T15:46:02.733497100Z",
     "start_time": "2023-12-29T15:46:02.368249100Z"
    }
   }
  },
  {
   "cell_type": "code",
   "execution_count": null,
   "outputs": [],
   "source": [
    "from transformers import BertTokenizer, BertModel, LlamaTokenizer, LlamaModel"
   ],
   "metadata": {
    "ExecuteTime": {
     "end_time": "2023-12-05T14:17:59.274898900Z",
     "start_time": "2023-12-05T14:17:59.259275100Z"
    },
    "id": "Inq9bZLSFiLN"
   }
  },
  {
   "cell_type": "code",
   "execution_count": null,
   "outputs": [],
   "source": [],
   "metadata": {
    "id": "bFRpp7UIFiLN"
   }
  }
 ],
 "metadata": {
  "kernelspec": {
   "display_name": "Python 3",
   "language": "python",
   "name": "python3"
  },
  "language_info": {
   "codemirror_mode": {
    "name": "ipython",
    "version": 2
   },
   "file_extension": ".py",
   "mimetype": "text/x-python",
   "name": "python",
   "nbconvert_exporter": "python",
   "pygments_lexer": "ipython2",
   "version": "2.7.6"
  },
  "colab": {
   "provenance": []
  }
 },
 "nbformat": 4,
 "nbformat_minor": 0
}
