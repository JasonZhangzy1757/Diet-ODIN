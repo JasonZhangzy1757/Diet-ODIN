{
 "cells": [
  {
   "cell_type": "code",
   "execution_count": null,
   "metadata": {
    "collapsed": true,
    "id": "2sgKNRdgPx5-",
    "ExecuteTime": {
     "end_time": "2023-10-16T16:46:14.851199800Z",
     "start_time": "2023-10-16T16:46:09.428709200Z"
    }
   },
   "outputs": [],
   "source": [
    "from torch_geometric.data import Data\n",
    "from gensim.models import Word2Vec\n",
    "from nltk.tokenize import word_tokenize\n",
    "from utils import *\n",
    "\n",
    "import warnings\n",
    "warnings.filterwarnings('ignore')"
   ]
  },
  {
   "cell_type": "markdown",
   "source": [
    "## Constructing a homogeneous graph for GCN baseline"
   ],
   "metadata": {
    "collapsed": false,
    "id": "EdeoRmu8rELa"
   }
  },
  {
   "cell_type": "code",
   "execution_count": null,
   "outputs": [],
   "source": [
    "# Load datasets\n",
    "food_ingredients_df = pd.read_csv('../processed_data/food_ingredients.csv', dtype=str)\n",
    "user_food_df = pd.read_csv('../processed_data/user_food.csv', dtype=str)\n",
    "df_demo = pd.read_csv('../processed_data/main_table.csv', dtype=str)\n",
    "df_diet = pd.read_csv('../processed_data/diet_table.csv', dtype=str)"
   ],
   "metadata": {
    "id": "YhCVayQtPx5_",
    "ExecuteTime": {
     "end_time": "2023-10-11T21:34:51.804255600Z",
     "start_time": "2023-10-11T21:34:49.819956400Z"
    }
   }
  },
  {
   "cell_type": "code",
   "execution_count": null,
   "outputs": [],
   "source": [
    "food_ingredients_df['WWEIA_id'] = food_ingredients_df['WWEIA_id'].str.zfill(6)\n",
    "food_ingredients_df['ingredient_id'] = food_ingredients_df['ingredient_id'].str.zfill(8)\n",
    "food_ingredients_df['food_id'] = food_ingredients_df['food_id'].str.zfill(8)"
   ],
   "metadata": {
    "ExecuteTime": {
     "end_time": "2023-10-11T21:34:51.824998600Z",
     "start_time": "2023-10-11T21:34:51.805251700Z"
    },
    "id": "RjTYcPDIrELa"
   }
  },
  {
   "cell_type": "code",
   "execution_count": null,
   "outputs": [],
   "source": [
    "# Create unique identifiers and map them to integers\n",
    "unique_food_ids = food_ingredients_df['food_id'].unique()\n",
    "unique_ingredient_ids = food_ingredients_df['ingredient_id'].unique()\n",
    "unique_wweia_ids = food_ingredients_df['WWEIA_id'].unique()\n",
    "unique_user_ids = user_food_df['SEQN'].unique()\n",
    "all_ids = list(unique_user_ids) + list(unique_food_ids) + list(unique_ingredient_ids) +  list(unique_wweia_ids)"
   ],
   "metadata": {
    "id": "G-luYZNnPx5_",
    "ExecuteTime": {
     "end_time": "2023-10-11T21:34:51.895024200Z",
     "start_time": "2023-10-11T21:34:51.826019100Z"
    }
   }
  },
  {
   "cell_type": "code",
   "execution_count": null,
   "outputs": [
    {
     "data": {
      "text/plain": "174"
     },
     "execution_count": 31,
     "metadata": {},
     "output_type": "execute_result"
    }
   ],
   "source": [
    "# Not all users have detail food records, and sometimes the ingredient ids are also food ids.\n",
    "len(unique_wweia_ids)"
   ],
   "metadata": {
    "id": "9oTJIbE9Px5_",
    "outputId": "580fa468-99ed-41a0-c89a-50ed06c7a2b3",
    "ExecuteTime": {
     "end_time": "2023-10-11T21:34:52.912126800Z",
     "start_time": "2023-10-11T21:34:52.873572800Z"
    }
   }
  },
  {
   "cell_type": "code",
   "execution_count": null,
   "outputs": [],
   "source": [
    "# Create a mapping from original ID to new integer ID\n",
    "all_ids = list(unique_user_ids) + list(unique_food_ids) + list(unique_ingredient_ids) +  list(unique_wweia_ids)\n",
    "id_to_int = {original_id: i for i, original_id in enumerate(all_ids)}"
   ],
   "metadata": {
    "id": "kkSKLhTWPx6A",
    "ExecuteTime": {
     "end_time": "2023-10-11T21:34:53.780635200Z",
     "start_time": "2023-10-11T21:34:53.743577300Z"
    }
   }
  },
  {
   "cell_type": "code",
   "execution_count": null,
   "outputs": [
    {
     "data": {
      "text/plain": "95604"
     },
     "execution_count": 33,
     "metadata": {},
     "output_type": "execute_result"
    }
   ],
   "source": [
    "len(set(all_ids))"
   ],
   "metadata": {
    "ExecuteTime": {
     "end_time": "2023-10-11T21:34:54.276956900Z",
     "start_time": "2023-10-11T21:34:54.275254600Z"
    },
    "id": "brLlK5oCrELb",
    "outputId": "d6fee3c2-5ae9-4f61-b1dc-615614564ef4"
   }
  },
  {
   "cell_type": "code",
   "execution_count": null,
   "outputs": [],
   "source": [
    "# Create edges between food and ingredient nodes\n",
    "food_ingredient_edges = torch.tensor(\n",
    "    [[id_to_int[food_id], id_to_int[ingredient_id]] for food_id, ingredient_id in zip(food_ingredients_df['food_id'], food_ingredients_df['ingredient_id'])],\n",
    "    dtype=torch.long\n",
    ").t().contiguous()\n",
    "\n",
    "# Create edges between food and category nodes\n",
    "food_category_edges = torch.tensor(\n",
    "    [[id_to_int[food_id], id_to_int[category_id]] for food_id, category_id in zip(food_ingredients_df['food_id'], food_ingredients_df['WWEIA_id'])],\n",
    "    dtype=torch.long\n",
    ").t().contiguous()\n",
    "\n",
    "valid_food_codes = set(food_ingredients_df['food_id'].unique())\n",
    "filtered_user_food_df = user_food_df[user_food_df['food_id'].isin(valid_food_codes)]\n",
    "\n",
    "# Create edges between user and food nodes\n",
    "user_food_edges = torch.tensor(\n",
    "    [[id_to_int[user_id], id_to_int[food_id]] for user_id, food_id in zip(filtered_user_food_df['SEQN'], filtered_user_food_df['food_id'])],\n",
    "    dtype=torch.long\n",
    ").t().contiguous()"
   ],
   "metadata": {
    "id": "T7lipAZAPx6A",
    "ExecuteTime": {
     "end_time": "2023-10-11T21:34:55.214688Z",
     "start_time": "2023-10-11T21:34:55.176483100Z"
    }
   }
  },
  {
   "cell_type": "code",
   "execution_count": null,
   "outputs": [],
   "source": [
    "# Concatenate all edges\n",
    "edge_index = torch.cat((food_ingredient_edges, food_category_edges, user_food_edges), dim=1)"
   ],
   "metadata": {
    "id": "_jOhMbiKPx6A",
    "ExecuteTime": {
     "end_time": "2023-10-11T21:35:00.152700300Z",
     "start_time": "2023-10-11T21:35:00.138349600Z"
    }
   }
  },
  {
   "cell_type": "code",
   "execution_count": null,
   "outputs": [],
   "source": [
    "# Tokenize the descriptions\n",
    "tokenized_food_desc = [word_tokenize(desc.lower()) for desc in food_ingredients_df['food_desc'].unique()]\n",
    "tokenized_ingredient_desc = [word_tokenize(desc.lower()) for desc in food_ingredients_df['ingredient_desc'].unique()]\n",
    "tokenized_wweia_desc = [word_tokenize(desc.lower()) for desc in food_ingredients_df['WWEIA_desc'].unique()]\n",
    "# Combine all tokenized descriptions\n",
    "all_tokenized_desc = tokenized_food_desc + tokenized_ingredient_desc + tokenized_wweia_desc\n",
    "\n",
    "# Train a Word2Vec model\n",
    "model = Word2Vec(sentences=all_tokenized_desc, vector_size=100, window=5, min_count=1, workers=4)\n",
    "model.save(\"word2vec.model\")\n",
    "max_feature_size = model.vector_size\n",
    "\n",
    "# Function to get the mean vector for a description\n",
    "def get_mean_vector(word2vec_model, words):\n",
    "    words = [word for word in words if word in word2vec_model.wv.index_to_key]\n",
    "    if len(words) >= 1:\n",
    "        return np.mean(word2vec_model.wv[words], axis=0)\n",
    "    else:\n",
    "        return []"
   ],
   "metadata": {
    "id": "iGFwXl2YPx6A",
    "ExecuteTime": {
     "end_time": "2023-10-11T21:35:01.723022400Z",
     "start_time": "2023-10-11T21:35:00.940226900Z"
    }
   }
  },
  {
   "cell_type": "code",
   "execution_count": null,
   "outputs": [],
   "source": [
    "categorical_columns = ['gender', 'race', 'household_income', 'education', 'age_group']\n",
    "df_demo = onehot_encoding(df_demo, categorical_columns)"
   ],
   "metadata": {
    "ExecuteTime": {
     "end_time": "2023-10-11T21:35:03.516991900Z",
     "start_time": "2023-10-11T21:35:03.432346400Z"
    },
    "id": "BrviWeWlrELt"
   }
  },
  {
   "cell_type": "code",
   "execution_count": null,
   "outputs": [],
   "source": [
    "df_demo = df_demo.astype(float).astype(int)\n",
    "df_demo['SEQN'] = df_demo['SEQN'].astype(str)\n",
    "df_demo.drop(['years', 'weight_interview', 'weight_mec'], axis=1, inplace=True)\n",
    "df_demo['label'].loc[df_demo['label'] == 2] = 0\n",
    "df_demo = df_demo.set_index('SEQN')"
   ],
   "metadata": {
    "ExecuteTime": {
     "end_time": "2023-10-11T21:35:05.873538300Z",
     "start_time": "2023-10-11T21:35:05.767107700Z"
    },
    "id": "tJ7xnbQDrELt"
   }
  },
  {
   "cell_type": "code",
   "execution_count": null,
   "outputs": [],
   "source": [
    "df_diet['SEQN'] = df_diet['SEQN'].astype(float).astype(int).astype(str)"
   ],
   "metadata": {
    "ExecuteTime": {
     "end_time": "2023-10-11T21:36:18.901089100Z",
     "start_time": "2023-10-11T21:36:18.844815800Z"
    },
    "id": "gUw_0Rj6rELt"
   }
  },
  {
   "cell_type": "code",
   "execution_count": null,
   "outputs": [],
   "source": [
    "df_diet = df_diet.set_index('SEQN')"
   ],
   "metadata": {
    "ExecuteTime": {
     "end_time": "2023-10-11T21:36:37.135951200Z",
     "start_time": "2023-10-11T21:36:37.018515400Z"
    },
    "id": "Xql-GhNJrELt"
   }
  },
  {
   "cell_type": "code",
   "execution_count": null,
   "outputs": [],
   "source": [
    "df_demo = pd.merge(df_demo, df_diet, left_index=True, right_index=True, how='left')"
   ],
   "metadata": {
    "ExecuteTime": {
     "end_time": "2023-10-11T21:36:51.062694Z",
     "start_time": "2023-10-11T21:36:50.929931Z"
    },
    "id": "znfcaejbrELu"
   }
  },
  {
   "cell_type": "code",
   "execution_count": null,
   "outputs": [
    {
     "data": {
      "text/plain": "        label  gender_1  gender_2  race_1  race_2  race_3  race_4  race_5  \\\nSEQN                                                                        \n21005       0         1         0       0       0       0       1       0   \n21006       0         0         1       0       0       0       1       0   \n21007       0         0         1       0       0       1       0       0   \n21008       0         1         0       0       0       0       1       0   \n21009       0         1         0       0       0       1       0       0   \n...       ...       ...       ...     ...     ...     ...     ...     ...   \n124818      0         1         0       0       0       0       1       0   \n124819      0         1         0       0       0       0       1       0   \n124820      0         0         1       0       0       1       0       0   \n124821      0         1         0       0       0       0       1       0   \n124822      0         1         0       0       1       0       0       0   \n\n        household_income_-1  household_income_1  ...  DRQSDT9  DRQSDT10  \\\nSEQN                                             ...                      \n21005                     0                   0  ...       -1        -1   \n21006                     0                   0  ...       -1        -1   \n21007                     1                   0  ...       -1        -1   \n21008                     0                   0  ...       -1        -1   \n21009                     0                   0  ...       -1        -1   \n...                     ...                 ...  ...      ...       ...   \n124818                    1                   0  ...       -1        -1   \n124819                    1                   0  ...       -1        -1   \n124820                    1                   0  ...       -1        -1   \n124821                    1                   0  ...       -1        -1   \n124822                    1                   0  ...       -1        -1   \n\n        DRQSDT11  DRQSDT12  DRQSDT91  DR1TNUMF  DR1TWSZ  DR1_300  DRD340  \\\nSEQN                                                                       \n21005         -1        -1        -1        17       -1        2      -1   \n21006         -1        -1        -1        10       -1        3       2   \n21007         -1        -1        -1        10       -1        2      -1   \n21008         -1        -1        -1         4       -1        2      -1   \n21009         -1        -1        -1        22       -1        2      -1   \n...          ...       ...       ...       ...      ...      ...     ...   \n124818        -1        -1        -1         9        4        3       1   \n124819        -1        -1        -1        14        1        2       2   \n124820        -1        -1        -1         8       91        2       2   \n124821        -1        -1        -1        10        4        2       1   \n124822        -1        -1        -1        -1       99        9       9   \n\n        DRD360  \nSEQN            \n21005       -1  \n21006        1  \n21007       -1  \n21008       -1  \n21009       -1  \n...        ...  \n124818       1  \n124819       2  \n124820       2  \n124821       1  \n124822       9  \n\n[95872 rows x 112 columns]",
      "text/html": "<div>\n<style scoped>\n    .dataframe tbody tr th:only-of-type {\n        vertical-align: middle;\n    }\n\n    .dataframe tbody tr th {\n        vertical-align: top;\n    }\n\n    .dataframe thead th {\n        text-align: right;\n    }\n</style>\n<table border=\"1\" class=\"dataframe\">\n  <thead>\n    <tr style=\"text-align: right;\">\n      <th></th>\n      <th>label</th>\n      <th>gender_1</th>\n      <th>gender_2</th>\n      <th>race_1</th>\n      <th>race_2</th>\n      <th>race_3</th>\n      <th>race_4</th>\n      <th>race_5</th>\n      <th>household_income_-1</th>\n      <th>household_income_1</th>\n      <th>...</th>\n      <th>DRQSDT9</th>\n      <th>DRQSDT10</th>\n      <th>DRQSDT11</th>\n      <th>DRQSDT12</th>\n      <th>DRQSDT91</th>\n      <th>DR1TNUMF</th>\n      <th>DR1TWSZ</th>\n      <th>DR1_300</th>\n      <th>DRD340</th>\n      <th>DRD360</th>\n    </tr>\n    <tr>\n      <th>SEQN</th>\n      <th></th>\n      <th></th>\n      <th></th>\n      <th></th>\n      <th></th>\n      <th></th>\n      <th></th>\n      <th></th>\n      <th></th>\n      <th></th>\n      <th></th>\n      <th></th>\n      <th></th>\n      <th></th>\n      <th></th>\n      <th></th>\n      <th></th>\n      <th></th>\n      <th></th>\n      <th></th>\n      <th></th>\n    </tr>\n  </thead>\n  <tbody>\n    <tr>\n      <th>21005</th>\n      <td>0</td>\n      <td>1</td>\n      <td>0</td>\n      <td>0</td>\n      <td>0</td>\n      <td>0</td>\n      <td>1</td>\n      <td>0</td>\n      <td>0</td>\n      <td>0</td>\n      <td>...</td>\n      <td>-1</td>\n      <td>-1</td>\n      <td>-1</td>\n      <td>-1</td>\n      <td>-1</td>\n      <td>17</td>\n      <td>-1</td>\n      <td>2</td>\n      <td>-1</td>\n      <td>-1</td>\n    </tr>\n    <tr>\n      <th>21006</th>\n      <td>0</td>\n      <td>0</td>\n      <td>1</td>\n      <td>0</td>\n      <td>0</td>\n      <td>0</td>\n      <td>1</td>\n      <td>0</td>\n      <td>0</td>\n      <td>0</td>\n      <td>...</td>\n      <td>-1</td>\n      <td>-1</td>\n      <td>-1</td>\n      <td>-1</td>\n      <td>-1</td>\n      <td>10</td>\n      <td>-1</td>\n      <td>3</td>\n      <td>2</td>\n      <td>1</td>\n    </tr>\n    <tr>\n      <th>21007</th>\n      <td>0</td>\n      <td>0</td>\n      <td>1</td>\n      <td>0</td>\n      <td>0</td>\n      <td>1</td>\n      <td>0</td>\n      <td>0</td>\n      <td>1</td>\n      <td>0</td>\n      <td>...</td>\n      <td>-1</td>\n      <td>-1</td>\n      <td>-1</td>\n      <td>-1</td>\n      <td>-1</td>\n      <td>10</td>\n      <td>-1</td>\n      <td>2</td>\n      <td>-1</td>\n      <td>-1</td>\n    </tr>\n    <tr>\n      <th>21008</th>\n      <td>0</td>\n      <td>1</td>\n      <td>0</td>\n      <td>0</td>\n      <td>0</td>\n      <td>0</td>\n      <td>1</td>\n      <td>0</td>\n      <td>0</td>\n      <td>0</td>\n      <td>...</td>\n      <td>-1</td>\n      <td>-1</td>\n      <td>-1</td>\n      <td>-1</td>\n      <td>-1</td>\n      <td>4</td>\n      <td>-1</td>\n      <td>2</td>\n      <td>-1</td>\n      <td>-1</td>\n    </tr>\n    <tr>\n      <th>21009</th>\n      <td>0</td>\n      <td>1</td>\n      <td>0</td>\n      <td>0</td>\n      <td>0</td>\n      <td>1</td>\n      <td>0</td>\n      <td>0</td>\n      <td>0</td>\n      <td>0</td>\n      <td>...</td>\n      <td>-1</td>\n      <td>-1</td>\n      <td>-1</td>\n      <td>-1</td>\n      <td>-1</td>\n      <td>22</td>\n      <td>-1</td>\n      <td>2</td>\n      <td>-1</td>\n      <td>-1</td>\n    </tr>\n    <tr>\n      <th>...</th>\n      <td>...</td>\n      <td>...</td>\n      <td>...</td>\n      <td>...</td>\n      <td>...</td>\n      <td>...</td>\n      <td>...</td>\n      <td>...</td>\n      <td>...</td>\n      <td>...</td>\n      <td>...</td>\n      <td>...</td>\n      <td>...</td>\n      <td>...</td>\n      <td>...</td>\n      <td>...</td>\n      <td>...</td>\n      <td>...</td>\n      <td>...</td>\n      <td>...</td>\n      <td>...</td>\n    </tr>\n    <tr>\n      <th>124818</th>\n      <td>0</td>\n      <td>1</td>\n      <td>0</td>\n      <td>0</td>\n      <td>0</td>\n      <td>0</td>\n      <td>1</td>\n      <td>0</td>\n      <td>1</td>\n      <td>0</td>\n      <td>...</td>\n      <td>-1</td>\n      <td>-1</td>\n      <td>-1</td>\n      <td>-1</td>\n      <td>-1</td>\n      <td>9</td>\n      <td>4</td>\n      <td>3</td>\n      <td>1</td>\n      <td>1</td>\n    </tr>\n    <tr>\n      <th>124819</th>\n      <td>0</td>\n      <td>1</td>\n      <td>0</td>\n      <td>0</td>\n      <td>0</td>\n      <td>0</td>\n      <td>1</td>\n      <td>0</td>\n      <td>1</td>\n      <td>0</td>\n      <td>...</td>\n      <td>-1</td>\n      <td>-1</td>\n      <td>-1</td>\n      <td>-1</td>\n      <td>-1</td>\n      <td>14</td>\n      <td>1</td>\n      <td>2</td>\n      <td>2</td>\n      <td>2</td>\n    </tr>\n    <tr>\n      <th>124820</th>\n      <td>0</td>\n      <td>0</td>\n      <td>1</td>\n      <td>0</td>\n      <td>0</td>\n      <td>1</td>\n      <td>0</td>\n      <td>0</td>\n      <td>1</td>\n      <td>0</td>\n      <td>...</td>\n      <td>-1</td>\n      <td>-1</td>\n      <td>-1</td>\n      <td>-1</td>\n      <td>-1</td>\n      <td>8</td>\n      <td>91</td>\n      <td>2</td>\n      <td>2</td>\n      <td>2</td>\n    </tr>\n    <tr>\n      <th>124821</th>\n      <td>0</td>\n      <td>1</td>\n      <td>0</td>\n      <td>0</td>\n      <td>0</td>\n      <td>0</td>\n      <td>1</td>\n      <td>0</td>\n      <td>1</td>\n      <td>0</td>\n      <td>...</td>\n      <td>-1</td>\n      <td>-1</td>\n      <td>-1</td>\n      <td>-1</td>\n      <td>-1</td>\n      <td>10</td>\n      <td>4</td>\n      <td>2</td>\n      <td>1</td>\n      <td>1</td>\n    </tr>\n    <tr>\n      <th>124822</th>\n      <td>0</td>\n      <td>1</td>\n      <td>0</td>\n      <td>0</td>\n      <td>1</td>\n      <td>0</td>\n      <td>0</td>\n      <td>0</td>\n      <td>1</td>\n      <td>0</td>\n      <td>...</td>\n      <td>-1</td>\n      <td>-1</td>\n      <td>-1</td>\n      <td>-1</td>\n      <td>-1</td>\n      <td>-1</td>\n      <td>99</td>\n      <td>9</td>\n      <td>9</td>\n      <td>9</td>\n    </tr>\n  </tbody>\n</table>\n<p>95872 rows × 112 columns</p>\n</div>"
     },
     "execution_count": 46,
     "metadata": {},
     "output_type": "execute_result"
    }
   ],
   "source": [
    "df_demo"
   ],
   "metadata": {
    "ExecuteTime": {
     "end_time": "2023-10-11T21:37:02.958412300Z",
     "start_time": "2023-10-11T21:37:02.914290100Z"
    },
    "id": "4v33BsmerELu",
    "outputId": "05c86c2f-7ef2-48a4-b40e-a4e1770e8569"
   }
  },
  {
   "cell_type": "code",
   "execution_count": null,
   "outputs": [
    {
     "data": {
      "text/plain": "label\n0    93144\n1     2728\nName: count, dtype: int64"
     },
     "execution_count": 45,
     "metadata": {},
     "output_type": "execute_result"
    }
   ],
   "source": [
    "df_demo['label'].value_counts()"
   ],
   "metadata": {
    "ExecuteTime": {
     "end_time": "2023-10-11T21:36:54.121627200Z",
     "start_time": "2023-10-11T21:36:54.113457700Z"
    },
    "id": "2-xI2bZyrELu",
    "outputId": "5fee37be-1283-438f-f716-fc6391bcf469"
   }
  },
  {
   "cell_type": "code",
   "execution_count": null,
   "outputs": [],
   "source": [
    "food_dict = dict(zip(food_ingredients_df['food_id'], food_ingredients_df['food_desc']))\n",
    "ingredient_dict = dict(zip(food_ingredients_df['ingredient_id'], food_ingredients_df['ingredient_desc']))\n",
    "wweia_dict = dict(zip(food_ingredients_df['WWEIA_id'], food_ingredients_df['WWEIA_desc']))\n",
    "user_dict = {idx: row.tolist() for idx, row in df_demo.iterrows()}"
   ],
   "metadata": {
    "ExecuteTime": {
     "end_time": "2023-10-06T18:34:12.233260800Z",
     "start_time": "2023-10-06T18:34:11.023269300Z"
    },
    "id": "VcmjPtPTrELu"
   }
  },
  {
   "cell_type": "code",
   "execution_count": null,
   "outputs": [],
   "source": [
    "# Create node features using Word2Vec embeddings\n",
    "node_features = []\n",
    "for original_id in all_ids:\n",
    "    if original_id in food_dict:\n",
    "        desc = food_dict[original_id]\n",
    "        feature = get_mean_vector(model, word_tokenize(desc.lower()))\n",
    "    elif original_id in ingredient_dict:\n",
    "        desc = ingredient_dict[original_id]\n",
    "        feature = get_mean_vector(model, word_tokenize(desc.lower()))\n",
    "    elif original_id in wweia_dict:\n",
    "        desc = wweia_dict[original_id]\n",
    "        feature = get_mean_vector(model, word_tokenize(desc.lower()))\n",
    "    elif original_id in user_dict:\n",
    "        feature = np.array(user_dict[original_id])  # Demographic features\n",
    "    else:\n",
    "        feature = np.zeros(model.vector_size)  # Fallback to zero vector\n",
    "    if len(feature) < max_feature_size:\n",
    "        feature = np.pad(feature, (0, max_feature_size - len(feature)), 'constant', constant_values=0)\n",
    "    node_features.append(feature)"
   ],
   "metadata": {
    "id": "wCUn8gE-Px6B",
    "ExecuteTime": {
     "end_time": "2023-10-06T18:34:14.091977600Z",
     "start_time": "2023-10-06T18:34:12.233260800Z"
    }
   }
  },
  {
   "cell_type": "code",
   "execution_count": null,
   "outputs": [],
   "source": [
    "node_features = torch.tensor(np.array(node_features), dtype=torch.float)"
   ],
   "metadata": {
    "id": "0nEUcVxqPx6B",
    "ExecuteTime": {
     "end_time": "2023-10-06T18:34:14.159401900Z",
     "start_time": "2023-10-06T18:34:14.091977600Z"
    }
   }
  },
  {
   "cell_type": "code",
   "execution_count": null,
   "outputs": [],
   "source": [
    "# Only 2413 records has dietary records, so they are included in the graph."
   ],
   "metadata": {
    "ExecuteTime": {
     "end_time": "2023-10-06T18:34:14.162833600Z",
     "start_time": "2023-10-06T18:34:14.159401900Z"
    },
    "id": "pToZZoierELu"
   }
  },
  {
   "cell_type": "code",
   "execution_count": null,
   "outputs": [],
   "source": [
    "# Create PyG data object\n",
    "data = Data(x=node_features, edge_index=edge_index)"
   ],
   "metadata": {
    "ExecuteTime": {
     "end_time": "2023-10-06T18:34:14.167035400Z",
     "start_time": "2023-10-06T18:34:14.162833600Z"
    },
    "id": "FGJAqw8irELu"
   }
  },
  {
   "cell_type": "code",
   "execution_count": null,
   "outputs": [
    {
     "data": {
      "text/plain": "Data(x=[96244, 100], edge_index=[2, 2172501])"
     },
     "execution_count": 316,
     "metadata": {},
     "output_type": "execute_result"
    }
   ],
   "source": [
    "data"
   ],
   "metadata": {
    "id": "WmMVQu0xPx6B",
    "outputId": "606a4a88-1c61-4bd9-d450-b98bf33434b8",
    "ExecuteTime": {
     "end_time": "2023-10-06T18:34:14.171676700Z",
     "start_time": "2023-10-06T18:34:14.167035400Z"
    }
   }
  },
  {
   "cell_type": "code",
   "execution_count": null,
   "outputs": [],
   "source": [
    "torch.save(data, \"../processed_data/simple_graph.pt\")"
   ],
   "metadata": {
    "ExecuteTime": {
     "end_time": "2023-10-06T18:34:18.091764Z",
     "start_time": "2023-10-06T18:34:17.950923200Z"
    },
    "id": "ZPRGl2eerELu"
   }
  },
  {
   "cell_type": "code",
   "execution_count": null,
   "outputs": [
    {
     "data": {
      "text/plain": "83352"
     },
     "execution_count": 318,
     "metadata": {},
     "output_type": "execute_result"
    }
   ],
   "source": [
    "len(unique_user_ids)"
   ],
   "metadata": {
    "ExecuteTime": {
     "end_time": "2023-10-06T18:35:01.937580500Z",
     "start_time": "2023-10-06T18:35:01.937580500Z"
    },
    "id": "LgqT3W0LrELu",
    "outputId": "4bc6ea67-09cf-4930-d4c5-518152efdd24"
   }
  },
  {
   "cell_type": "code",
   "execution_count": null,
   "outputs": [],
   "source": [],
   "metadata": {
    "id": "Ad8gOZT-rELu"
   }
  }
 ],
 "metadata": {
  "kernelspec": {
   "display_name": "Python 3",
   "language": "python",
   "name": "python3"
  },
  "language_info": {
   "codemirror_mode": {
    "name": "ipython",
    "version": 2
   },
   "file_extension": ".py",
   "mimetype": "text/x-python",
   "name": "python",
   "nbconvert_exporter": "python",
   "pygments_lexer": "ipython2",
   "version": "2.7.6"
  },
  "colab": {
   "provenance": []
  }
 },
 "nbformat": 4,
 "nbformat_minor": 0
}
