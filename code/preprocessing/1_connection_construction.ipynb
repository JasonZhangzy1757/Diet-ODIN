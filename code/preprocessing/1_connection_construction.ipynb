{
 "cells": [
  {
   "cell_type": "code",
   "execution_count": 1,
   "metadata": {
    "collapsed": true,
    "id": "h9WAyZbHJ88W",
    "ExecuteTime": {
     "end_time": "2024-02-02T01:08:21.945091700Z",
     "start_time": "2024-02-02T01:08:18.439183500Z"
    }
   },
   "outputs": [
    {
     "name": "stderr",
     "output_type": "stream",
     "text": [
      "D:\\anaconda\\envs\\Jason_2\\lib\\site-packages\\tqdm\\auto.py:21: TqdmWarning: IProgress not found. Please update jupyter and ipywidgets. See https://ipywidgets.readthedocs.io/en/stable/user_install.html\n",
      "  from .autonotebook import tqdm as notebook_tqdm\n"
     ]
    }
   ],
   "source": [
    "import pandas as pd\n",
    "import numpy as np\n",
    "from utils import *\n",
    "\n",
    "import warnings\n",
    "warnings.filterwarnings('ignore')"
   ]
  },
  {
   "cell_type": "markdown",
   "source": [
    "## Food - Ingredient Connection"
   ],
   "metadata": {
    "collapsed": false,
    "id": "Egzma6GIJ88X"
   }
  },
  {
   "cell_type": "code",
   "execution_count": 4,
   "outputs": [],
   "source": [
    "# The most recent three years of FNDDS tables contain nutrition data. The column names are slightly different.\n",
    "df_1516 = pd.read_excel('../data/2015-2016 Ingredients.xlsx', skiprows=1)\n",
    "df_1718 = pd.read_excel('../data/2017-2018 Ingredients.xlsx', skiprows=1)\n",
    "df_1920 = pd.read_excel('../data/2019-2020 Ingredients.xlsx', skiprows=1)\n",
    "\n",
    "df_1516 = df_1516.rename(columns={'WWEIA Category code': 'WWEIA Category number'})"
   ],
   "metadata": {
    "id": "ah3vePzJJ88Y",
    "ExecuteTime": {
     "end_time": "2024-02-02T01:09:41.909325200Z",
     "start_time": "2024-02-02T01:09:34.311964500Z"
    }
   }
  },
  {
   "cell_type": "code",
   "execution_count": 5,
   "outputs": [],
   "source": [
    "# A small proportion of FNDDS data, such as code and descriptions change over the years.\n",
    "# Here we take the latest version of data if there are duplicates.\n",
    "df = pd.concat([df_1516, df_1718, df_1920])\n",
    "df = df[['Food code', 'Main food description', 'WWEIA Category number', 'WWEIA Category description', 'Ingredient code', 'Ingredient description']]\n",
    "df = df.drop_duplicates(subset=['Food code', 'WWEIA Category number', 'Ingredient code'], keep='last')\n",
    "df = df.sort_values(by='Food code')\n",
    "\n",
    "# This table records the connections between food and ingredients.\n",
    "df = df.rename(columns={'Food code': 'food_id', 'Main food description': 'food_desc', 'WWEIA Category number': 'WWEIA_id',\n",
    "                        'WWEIA Category description': 'WWEIA_desc', 'Ingredient code': 'ingredient_id', 'Ingredient description': 'ingredient_desc'})\n",
    "\n",
    "df.to_csv('../processed_data/food_ingredients.csv', index=False)"
   ],
   "metadata": {
    "id": "UtuzQDtnJ88Y",
    "ExecuteTime": {
     "end_time": "2024-02-02T01:09:42.065309700Z",
     "start_time": "2024-02-02T01:09:41.909325200Z"
    }
   }
  },
  {
   "cell_type": "code",
   "execution_count": 6,
   "outputs": [
    {
     "data": {
      "text/plain": "9260"
     },
     "execution_count": 6,
     "metadata": {},
     "output_type": "execute_result"
    }
   ],
   "source": [
    "# There are 9260 foods in total.\n",
    "len(set(df['food_id'].tolist()))"
   ],
   "metadata": {
    "id": "CYpXt6BEJ88Z",
    "outputId": "8e6aca44-184d-444a-f988-0d37090198f8",
    "ExecuteTime": {
     "end_time": "2024-02-02T01:09:42.081591200Z",
     "start_time": "2024-02-02T01:09:42.065966600Z"
    }
   }
  },
  {
   "cell_type": "code",
   "execution_count": 7,
   "outputs": [
    {
     "data": {
      "text/plain": "        food_id                             food_desc  WWEIA_id  \\\n0      11000000                           Milk, human      9602   \n4      11100000                             Milk, NFS      1004   \n3      11100000                             Milk, NFS      1004   \n2      11100000                             Milk, NFS      1004   \n1      11100000                             Milk, NFS      1004   \n...         ...                                   ...       ...   \n19301  99998130     Sauce as ingredient in hamburgers      9999   \n19305  99998210  Industrial oil as ingredient in food      9999   \n19306  99998210  Industrial oil as ingredient in food      9999   \n19304  99998210  Industrial oil as ingredient in food      9999   \n19307  99998210  Industrial oil as ingredient in food      9999   \n\n                            WWEIA_desc  ingredient_id  \\\n0                           Human milk           1107   \n4                    Milk, reduced fat           1085   \n3                    Milk, reduced fat           1082   \n2                    Milk, reduced fat           1079   \n1                    Milk, reduced fat           1077   \n...                                ...            ...   \n19301  Not included in a food category          11935   \n19305  Not included in a food category           4701   \n19306  Not included in a food category           4699   \n19304  Not included in a food category           4698   \n19307  Not included in a food category           4700   \n\n                                         ingredient_desc  \n0        Milk, human, mature, fluid (For Reference Only)  \n4      Milk, nonfat, fluid, with added vitamin A and ...  \n3      Milk, lowfat, fluid, 1% milkfat, with added vi...  \n2      Milk, reduced fat, fluid, 2% milkfat, with add...  \n1       Milk, whole, 3.25% milkfat, with added vitamin D  \n...                                                  ...  \n19301                                             Catsup  \n19305           Oil, industrial, soy, fully hydrogenated  \n19306                Oil, industrial, soy, low linolenic  \n19304                Oil, industrial, canola, high oleic  \n19307          Oil, industrial, soy, ultra low linolenic  \n\n[36718 rows x 6 columns]",
      "text/html": "<div>\n<style scoped>\n    .dataframe tbody tr th:only-of-type {\n        vertical-align: middle;\n    }\n\n    .dataframe tbody tr th {\n        vertical-align: top;\n    }\n\n    .dataframe thead th {\n        text-align: right;\n    }\n</style>\n<table border=\"1\" class=\"dataframe\">\n  <thead>\n    <tr style=\"text-align: right;\">\n      <th></th>\n      <th>food_id</th>\n      <th>food_desc</th>\n      <th>WWEIA_id</th>\n      <th>WWEIA_desc</th>\n      <th>ingredient_id</th>\n      <th>ingredient_desc</th>\n    </tr>\n  </thead>\n  <tbody>\n    <tr>\n      <th>0</th>\n      <td>11000000</td>\n      <td>Milk, human</td>\n      <td>9602</td>\n      <td>Human milk</td>\n      <td>1107</td>\n      <td>Milk, human, mature, fluid (For Reference Only)</td>\n    </tr>\n    <tr>\n      <th>4</th>\n      <td>11100000</td>\n      <td>Milk, NFS</td>\n      <td>1004</td>\n      <td>Milk, reduced fat</td>\n      <td>1085</td>\n      <td>Milk, nonfat, fluid, with added vitamin A and ...</td>\n    </tr>\n    <tr>\n      <th>3</th>\n      <td>11100000</td>\n      <td>Milk, NFS</td>\n      <td>1004</td>\n      <td>Milk, reduced fat</td>\n      <td>1082</td>\n      <td>Milk, lowfat, fluid, 1% milkfat, with added vi...</td>\n    </tr>\n    <tr>\n      <th>2</th>\n      <td>11100000</td>\n      <td>Milk, NFS</td>\n      <td>1004</td>\n      <td>Milk, reduced fat</td>\n      <td>1079</td>\n      <td>Milk, reduced fat, fluid, 2% milkfat, with add...</td>\n    </tr>\n    <tr>\n      <th>1</th>\n      <td>11100000</td>\n      <td>Milk, NFS</td>\n      <td>1004</td>\n      <td>Milk, reduced fat</td>\n      <td>1077</td>\n      <td>Milk, whole, 3.25% milkfat, with added vitamin D</td>\n    </tr>\n    <tr>\n      <th>...</th>\n      <td>...</td>\n      <td>...</td>\n      <td>...</td>\n      <td>...</td>\n      <td>...</td>\n      <td>...</td>\n    </tr>\n    <tr>\n      <th>19301</th>\n      <td>99998130</td>\n      <td>Sauce as ingredient in hamburgers</td>\n      <td>9999</td>\n      <td>Not included in a food category</td>\n      <td>11935</td>\n      <td>Catsup</td>\n    </tr>\n    <tr>\n      <th>19305</th>\n      <td>99998210</td>\n      <td>Industrial oil as ingredient in food</td>\n      <td>9999</td>\n      <td>Not included in a food category</td>\n      <td>4701</td>\n      <td>Oil, industrial, soy, fully hydrogenated</td>\n    </tr>\n    <tr>\n      <th>19306</th>\n      <td>99998210</td>\n      <td>Industrial oil as ingredient in food</td>\n      <td>9999</td>\n      <td>Not included in a food category</td>\n      <td>4699</td>\n      <td>Oil, industrial, soy, low linolenic</td>\n    </tr>\n    <tr>\n      <th>19304</th>\n      <td>99998210</td>\n      <td>Industrial oil as ingredient in food</td>\n      <td>9999</td>\n      <td>Not included in a food category</td>\n      <td>4698</td>\n      <td>Oil, industrial, canola, high oleic</td>\n    </tr>\n    <tr>\n      <th>19307</th>\n      <td>99998210</td>\n      <td>Industrial oil as ingredient in food</td>\n      <td>9999</td>\n      <td>Not included in a food category</td>\n      <td>4700</td>\n      <td>Oil, industrial, soy, ultra low linolenic</td>\n    </tr>\n  </tbody>\n</table>\n<p>36718 rows × 6 columns</p>\n</div>"
     },
     "execution_count": 7,
     "metadata": {},
     "output_type": "execute_result"
    }
   ],
   "source": [
    "df"
   ],
   "metadata": {
    "collapsed": false,
    "ExecuteTime": {
     "end_time": "2024-02-02T01:09:42.141023300Z",
     "start_time": "2024-02-02T01:09:42.081591200Z"
    }
   }
  },
  {
   "cell_type": "markdown",
   "source": [
    "## User - Food Connection"
   ],
   "metadata": {
    "collapsed": false
   }
  },
  {
   "cell_type": "code",
   "execution_count": 7,
   "outputs": [],
   "source": [
    "years = ['0304', '0506', '0708', '0910', '1112', '1314', '1516', '1718', '1720']\n",
    "year_char = 'C'\n",
    "type_dietary = 'dietary'"
   ],
   "metadata": {
    "id": "ZlDPfe0aJ88Z",
    "ExecuteTime": {
     "end_time": "2023-10-17T16:54:25.956476300Z",
     "start_time": "2023-10-17T16:54:25.949280Z"
    }
   }
  },
  {
   "cell_type": "code",
   "execution_count": 34,
   "outputs": [],
   "source": [
    "df_IFF1 = concat_data_across_years(type_dietary, 'DR1IFF', years, year_char)\n",
    "df_IFF2 = concat_data_across_years(type_dietary, 'DR2IFF', years, year_char)"
   ],
   "metadata": {
    "id": "bIJv28geJ88Z",
    "ExecuteTime": {
     "end_time": "2023-10-17T17:34:13.454291Z",
     "start_time": "2023-10-17T17:33:57.575545900Z"
    }
   }
  },
  {
   "cell_type": "markdown",
   "source": [
    "### We first create a table that contains the nutrition information of each food."
   ],
   "metadata": {
    "collapsed": false
   }
  },
  {
   "cell_type": "code",
   "execution_count": 35,
   "outputs": [],
   "source": [
    "food_columns_1 = ['SEQN', 'food_id', 'DR1IGRMS',\n",
    " 'DR1IKCAL', 'DR1IPROT', 'DR1ICARB', 'DR1ISUGR', 'DR1IFIBE', 'DR1ITFAT',\n",
    " 'DR1ISFAT', 'DR1IMFAT', 'DR1IPFAT', 'DR1ICHOL', 'DR1IATOC', 'DR1IATOA',\n",
    " 'DR1IRET', 'DR1IVARA', 'DR1IACAR', 'DR1IBCAR', 'DR1ICRYP', 'DR1ILYCO',\n",
    " 'DR1ILZ', 'DR1IVB1', 'DR1IVB2', 'DR1INIAC', 'DR1IVB6', 'DR1IFOLA',\n",
    " 'DR1IFA', 'DR1IFF', 'DR1IFDFE', 'DR1ICHL', 'DR1IVB12', 'DR1IB12A',\n",
    " 'DR1IVC', 'DR1IVD', 'DR1IVK', 'DR1ICALC', 'DR1IPHOS', 'DR1IMAGN',\n",
    " 'DR1IIRON', 'DR1IZINC', 'DR1ICOPP', 'DR1ISODI', 'DR1IPOTA', 'DR1ISELE',\n",
    " 'DR1ICAFF', 'DR1ITHEO', 'DR1IALCO', 'DR1IMOIS'\n",
    "]\n",
    "food_columns_2 = ['SEQN', 'food_id', 'DR2IGRMS',\n",
    " 'DR2IKCAL', 'DR2IPROT', 'DR2ICARB', 'DR2ISUGR', 'DR2IFIBE', 'DR2ITFAT',\n",
    " 'DR2ISFAT', 'DR2IMFAT', 'DR2IPFAT', 'DR2ICHOL', 'DR2IATOC', 'DR2IATOA',\n",
    " 'DR2IRET', 'DR2IVARA', 'DR2IACAR', 'DR2IBCAR', 'DR2ICRYP', 'DR2ILYCO',\n",
    " 'DR2ILZ', 'DR2IVB1', 'DR2IVB2', 'DR2INIAC', 'DR2IVB6', 'DR2IFOLA',\n",
    " 'DR2IFA', 'DR2IFF', 'DR2IFDFE', 'DR2ICHL', 'DR2IVB12', 'DR2IB12A',\n",
    " 'DR2IVC', 'DR2IVD', 'DR2IVK', 'DR2ICALC', 'DR2IPHOS', 'DR2IMAGN',\n",
    " 'DR2IIRON', 'DR2IZINC', 'DR2ICOPP', 'DR2ISODI', 'DR2IPOTA', 'DR2ISELE',\n",
    " 'DR2ICAFF', 'DR2ITHEO', 'DR2IALCO', 'DR2IMOIS'\n",
    "]"
   ],
   "metadata": {
    "collapsed": false,
    "ExecuteTime": {
     "end_time": "2023-10-17T17:34:13.460303200Z",
     "start_time": "2023-10-17T17:34:13.454291Z"
    }
   }
  },
  {
   "cell_type": "code",
   "execution_count": 68,
   "outputs": [],
   "source": [
    "df_IFF1 = df_IFF1.rename(columns={'DR1IFDCD': 'food_id'})\n",
    "df_IFF1 = df_IFF1[food_columns_1].astype(float)\n",
    "df_IFF2 = df_IFF2.rename(columns={'DR2IFDCD': 'food_id'})\n",
    "df_IFF2 = df_IFF2[food_columns_2].astype(float)\n",
    "\n",
    "df_food  = pd.DataFrame(np.vstack((df_IFF1.to_numpy(), df_IFF2.to_numpy())), columns=df_IFF1.columns)"
   ],
   "metadata": {
    "collapsed": false,
    "ExecuteTime": {
     "end_time": "2023-10-17T17:51:18.366951400Z",
     "start_time": "2023-10-17T17:51:17.457806800Z"
    }
   }
  },
  {
   "cell_type": "code",
   "execution_count": 69,
   "outputs": [],
   "source": [
    "# Create a new DataFrame for the processed data\n",
    "processed_df = pd.DataFrame()\n",
    "processed_df['food_id'] = df_food['food_id'].unique()"
   ],
   "metadata": {
    "collapsed": false,
    "ExecuteTime": {
     "end_time": "2023-10-17T17:51:27.780812700Z",
     "start_time": "2023-10-17T17:51:27.761539700Z"
    }
   }
  },
  {
   "cell_type": "code",
   "execution_count": 70,
   "outputs": [],
   "source": [
    "df_food = df_food.dropna(subset=['DR1IGRMS'])"
   ],
   "metadata": {
    "collapsed": false,
    "ExecuteTime": {
     "end_time": "2023-10-17T17:51:30.537178600Z",
     "start_time": "2023-10-17T17:51:30.267084300Z"
    }
   }
  },
  {
   "cell_type": "code",
   "execution_count": 71,
   "outputs": [],
   "source": [
    "for col in df_food.columns.tolist()[3:]:\n",
    "    df_food[col] = df_food[col] / df_food['DR1IGRMS'] * 100\n",
    "\n",
    "df_food.drop(['SEQN', 'DR1IGRMS'], axis=1, inplace=True)\n",
    "\n",
    "df_food = df_food.groupby('food_id').mean().reset_index()\n",
    "df_food = df_food.fillna(-1)\n",
    "df_food['food_id'] = df_food['food_id'].astype(int)"
   ],
   "metadata": {
    "collapsed": false,
    "ExecuteTime": {
     "end_time": "2023-10-17T17:52:16.617479500Z",
     "start_time": "2023-10-17T17:52:15.293563400Z"
    }
   }
  },
  {
   "cell_type": "code",
   "execution_count": 73,
   "outputs": [],
   "source": [
    "processed_df = processed_df.merge(df_food, how='left', on='food_id')"
   ],
   "metadata": {
    "collapsed": false,
    "ExecuteTime": {
     "end_time": "2023-10-17T17:52:59.803766Z",
     "start_time": "2023-10-17T17:52:59.763840200Z"
    }
   }
  },
  {
   "cell_type": "code",
   "execution_count": 77,
   "outputs": [],
   "source": [
    "processed_df.to_csv('../processed_data/food_nutrition.csv', index=False)"
   ],
   "metadata": {
    "collapsed": false,
    "ExecuteTime": {
     "end_time": "2023-10-17T17:54:41.906041500Z",
     "start_time": "2023-10-17T17:54:41.625115900Z"
    }
   }
  },
  {
   "cell_type": "markdown",
   "source": [
    "### Now go back to the user-food connection."
   ],
   "metadata": {
    "collapsed": false
   }
  },
  {
   "cell_type": "code",
   "execution_count": 75,
   "outputs": [],
   "source": [
    "df_IFF1 = df_IFF1[['SEQN', 'food_id']].astype(int)\n",
    "df_IFF2 = df_IFF2[['SEQN', 'food_id']].astype(int)\n",
    "df_food = pd.concat([df_IFF1, df_IFF2])"
   ],
   "metadata": {
    "collapsed": false,
    "ExecuteTime": {
     "end_time": "2023-10-17T17:54:27.029043200Z",
     "start_time": "2023-10-17T17:54:26.993828700Z"
    }
   }
  },
  {
   "cell_type": "code",
   "execution_count": 76,
   "outputs": [
    {
     "data": {
      "text/plain": "9640"
     },
     "execution_count": 76,
     "metadata": {},
     "output_type": "execute_result"
    }
   ],
   "source": [
    "len(set(df_food['food_id'].tolist()))"
   ],
   "metadata": {
    "collapsed": false,
    "ExecuteTime": {
     "end_time": "2023-10-17T17:54:28.951332400Z",
     "start_time": "2023-10-17T17:54:28.879333900Z"
    }
   }
  },
  {
   "cell_type": "code",
   "execution_count": 12,
   "outputs": [],
   "source": [
    "food_eaten = set(df_food['food_id'].tolist())\n",
    "food_fndds_have = set(df['food_id'].tolist())"
   ],
   "metadata": {
    "collapsed": false,
    "ExecuteTime": {
     "end_time": "2023-10-17T17:09:35.056762700Z",
     "start_time": "2023-10-17T17:09:34.950485500Z"
    }
   }
  },
  {
   "cell_type": "code",
   "execution_count": 13,
   "outputs": [
    {
     "data": {
      "text/plain": "8119"
     },
     "execution_count": 13,
     "metadata": {},
     "output_type": "execute_result"
    }
   ],
   "source": [
    "\"\"\"\n",
    "There are 9640 food items show up in the users' diet. But from 15-20 FNDDS data, we only get 9260 food items that contains ingredients. And the overlap is only 8119.\n",
    "This is not necessary a problem, because some food items, such as white sugar, don't have ingredients.\n",
    "But we need to address this issue.\n",
    "\"\"\"\n",
    "len(food_eaten.intersection(food_fndds_have))"
   ],
   "metadata": {
    "collapsed": false,
    "ExecuteTime": {
     "end_time": "2023-10-17T17:09:35.439739200Z",
     "start_time": "2023-10-17T17:09:35.433933100Z"
    }
   }
  },
  {
   "cell_type": "code",
   "execution_count": 14,
   "outputs": [],
   "source": [
    "\"\"\"\n",
    "We use the food code NHANES provided, which is more complete than FNDDS. For duplications, we also keep the latest records.\n",
    "In this way, every food users reported has its corresponding food description.\n",
    "We use this as the connections between users and food.\n",
    "\"\"\"\n",
    "\n",
    "food_dictionary = concat_data_across_years(type_dietary, 'DRXFCD', years, year_char)\n",
    "food_dictionary = food_dictionary.rename(columns={'DRXFDCD': 'food_id', 'DRXFCLD': 'food_desc'})\n",
    "\n",
    "food_dictionary = food_dictionary[['food_id', 'food_desc', 'years']]\n",
    "food_dictionary['food_id'] = food_dictionary['food_id'].astype(int)\n",
    "food_dictionary = food_dictionary.drop_duplicates(subset='food_id', keep='last')"
   ],
   "metadata": {
    "id": "e49qrkwuJ88a",
    "ExecuteTime": {
     "end_time": "2023-10-17T17:09:44.032192100Z",
     "start_time": "2023-10-17T17:09:39.328139300Z"
    }
   }
  },
  {
   "cell_type": "code",
   "execution_count": 15,
   "outputs": [
    {
     "data": {
      "text/plain": "11338"
     },
     "execution_count": 15,
     "metadata": {},
     "output_type": "execute_result"
    }
   ],
   "source": [
    "food_nhanes_have = set(food_dictionary['food_id'].tolist())\n",
    "len(food_nhanes_have)"
   ],
   "metadata": {
    "id": "STPxfmkOJ88a",
    "outputId": "d930f96c-f742-42b6-b550-efc9ce179882",
    "ExecuteTime": {
     "end_time": "2023-10-17T17:09:44.038454900Z",
     "start_time": "2023-10-17T17:09:44.032192100Z"
    }
   }
  },
  {
   "cell_type": "code",
   "execution_count": 16,
   "outputs": [
    {
     "data": {
      "text/plain": "9640"
     },
     "execution_count": 16,
     "metadata": {},
     "output_type": "execute_result"
    }
   ],
   "source": [
    "len(food_eaten.intersection(food_nhanes_have))"
   ],
   "metadata": {
    "collapsed": false,
    "ExecuteTime": {
     "end_time": "2023-10-17T17:09:45.013084100Z",
     "start_time": "2023-10-17T17:09:44.985403500Z"
    }
   }
  },
  {
   "cell_type": "code",
   "execution_count": 18,
   "outputs": [],
   "source": [
    "df_food[['SEQN', 'food_id']] = df_food[['SEQN', 'food_id']].astype(int)"
   ],
   "metadata": {
    "collapsed": false,
    "ExecuteTime": {
     "end_time": "2023-10-17T17:11:57.476768400Z",
     "start_time": "2023-10-17T17:11:57.434225300Z"
    }
   }
  },
  {
   "cell_type": "code",
   "execution_count": 23,
   "outputs": [],
   "source": [
    "food_nutrition = df_food.drop('SEQN', axis=1).sample(10000)\n",
    "food_nutrition.to_csv('../processed_data/food_nutrition.csv', index=False)"
   ],
   "metadata": {
    "collapsed": false,
    "ExecuteTime": {
     "end_time": "2023-10-17T17:14:38.399074700Z",
     "start_time": "2023-10-17T17:14:37.480472600Z"
    }
   }
  },
  {
   "cell_type": "code",
   "execution_count": 38,
   "outputs": [],
   "source": [
    "df_food = df_food.merge(food_dictionary, how='left', on='food_id')"
   ],
   "metadata": {
    "id": "YYy2eSy5J88a",
    "ExecuteTime": {
     "end_time": "2023-10-05T20:17:32.176572800Z",
     "start_time": "2023-10-05T20:17:32.022768Z"
    }
   }
  },
  {
   "cell_type": "code",
   "execution_count": 39,
   "outputs": [],
   "source": [
    "df_food.to_csv('../processed_data/user_food.csv', index=False)"
   ],
   "metadata": {
    "collapsed": false,
    "ExecuteTime": {
     "end_time": "2023-10-05T20:17:36.570430700Z",
     "start_time": "2023-10-05T20:17:33.839155200Z"
    }
   }
  },
  {
   "cell_type": "markdown",
   "source": [
    "### Todo: Food - Category Connections"
   ],
   "metadata": {
    "collapsed": false
   }
  },
  {
   "cell_type": "code",
   "execution_count": 8,
   "outputs": [],
   "source": [
    "\"\"\"\n",
    "A food doesn't necessarily have ingredients, but it should always belong to a food category.\n",
    "This can be retrieved from FNDDS food tables. Turns out that all foods are assigned at least one ingredient and category.\n",
    "\"\"\"\n",
    "df_food_1516 = pd.read_excel('../data/2015-2016 Foods and Beverages.xlsx', skiprows=1)\n",
    "df_food_1718 = pd.read_excel('../data/2017-2018 Foods and Beverages.xlsx', skiprows=1)\n",
    "df_food_1920 = pd.read_excel('../data/2019-2020 Foods and Beverages.xlsx', skiprows=1)"
   ],
   "metadata": {
    "collapsed": false,
    "ExecuteTime": {
     "end_time": "2023-10-11T14:46:26.849535200Z",
     "start_time": "2023-10-11T14:46:25.753514900Z"
    }
   }
  },
  {
   "cell_type": "code",
   "execution_count": 14,
   "outputs": [],
   "source": [
    "df_food_1516 = df_food_1516.rename(columns={'WWEIA Category code': 'WWEIA Category number'})\n",
    "# A small proportion of FNDDS data, such as code and descriptions change over the years.\n",
    "# Here we take the latest version of data if there are duplicates.\n",
    "df_food_main = pd.concat([df_food_1516, df_food_1718, df_food_1920])\n",
    "df_food_main = df_food_main[['Food code', 'Main food description', 'WWEIA Category number', 'WWEIA Category description']]\n",
    "df_food_main = df_food_main.drop_duplicates(subset=['Food code', 'WWEIA Category number'], keep='last')\n",
    "df_food_main = df_food_main.sort_values(by='Food code')\n",
    "\n",
    "# This table records the connections between food and ingredients.\n",
    "df_food_main = df_food_main.rename(columns={'Food code': 'food_id', 'Main food description': 'food_desc', 'WWEIA Category number': 'WWEIA_id',\n",
    "                        'WWEIA Category description': 'WWEIA_desc'})"
   ],
   "metadata": {
    "collapsed": false,
    "ExecuteTime": {
     "end_time": "2023-10-11T14:49:46.597105800Z",
     "start_time": "2023-10-11T14:49:46.565347400Z"
    }
   }
  },
  {
   "cell_type": "code",
   "execution_count": 15,
   "outputs": [
    {
     "data": {
      "text/plain": "(9260,)"
     },
     "execution_count": 15,
     "metadata": {},
     "output_type": "execute_result"
    }
   ],
   "source": [
    "# This matches the food id number in the ingredient table. So it means the food category relations has been covered using that table.\n",
    "df_food_main['food_id'].unique().shape"
   ],
   "metadata": {
    "collapsed": false,
    "ExecuteTime": {
     "end_time": "2023-10-11T14:50:06.291568100Z",
     "start_time": "2023-10-11T14:50:06.279855300Z"
    }
   }
  },
  {
   "cell_type": "code",
   "execution_count": null,
   "outputs": [],
   "source": [],
   "metadata": {
    "collapsed": false
   }
  }
 ],
 "metadata": {
  "kernelspec": {
   "display_name": "Python 3",
   "language": "python",
   "name": "python3"
  },
  "language_info": {
   "codemirror_mode": {
    "name": "ipython",
    "version": 2
   },
   "file_extension": ".py",
   "mimetype": "text/x-python",
   "name": "python",
   "nbconvert_exporter": "python",
   "pygments_lexer": "ipython2",
   "version": "2.7.6"
  },
  "colab": {
   "provenance": []
  }
 },
 "nbformat": 4,
 "nbformat_minor": 0
}
