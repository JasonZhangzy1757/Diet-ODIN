{
 "cells": [
  {
   "cell_type": "code",
   "execution_count": 1,
   "metadata": {
    "collapsed": true,
    "ExecuteTime": {
     "end_time": "2023-10-05T20:24:17.124299Z",
     "start_time": "2023-10-05T20:24:15.810010800Z"
    }
   },
   "outputs": [],
   "source": [
    "import pandas as pd\n",
    "import numpy as np\n",
    "from utils import *\n",
    "\n",
    "import warnings\n",
    "warnings.filterwarnings('ignore')"
   ]
  },
  {
   "cell_type": "code",
   "execution_count": 17,
   "outputs": [],
   "source": [
    "\"\"\"\n",
    "I have no idea how to include the ingredient and food category information.\n",
    "So my solution is to aggregate the nutrition information and concatenate the food description.\n",
    "The ingredients and food categories are not considered in this process.\n",
    "\n",
    "Also, diet habits are important attributes, for now, I just use one-hot encoding.\n",
    "\"\"\"\n",
    "\n",
    "df_food = pd.read_csv('../processed_data/user_food.csv', index_col='SEQN')\n",
    "food_table = df_food.groupby('SEQN')['food_desc'].agg(';'.join).reset_index().set_index('SEQN')\n",
    "\n",
    "df_demo = pd.read_csv('../processed_data/main_table.csv', index_col='SEQN')\n",
    "df_demo['label'] = df_demo['label'].astype(int)\n",
    "df_demo = df_demo.drop(['weight_interview', 'weight_mec', 'years'], axis=1)\n",
    "\n",
    "df_diet = pd.read_csv('../processed_data/diet_table.csv', index_col='SEQN')"
   ],
   "metadata": {
    "collapsed": false,
    "ExecuteTime": {
     "end_time": "2023-10-05T20:45:13.448447700Z",
     "start_time": "2023-10-05T20:45:11.679393100Z"
    }
   }
  },
  {
   "cell_type": "code",
   "execution_count": 18,
   "outputs": [],
   "source": [
    "# Merge the data together, and make sure the demographic table is the main table.\n",
    "df = df_demo.merge(food_table, left_index=True, right_index=True, how='left')\n",
    "df = df.merge(df_diet, left_index=True, right_index=True, how='left')"
   ],
   "metadata": {
    "collapsed": false,
    "ExecuteTime": {
     "end_time": "2023-10-05T20:45:15.271799800Z",
     "start_time": "2023-10-05T20:45:15.212104600Z"
    }
   }
  },
  {
   "cell_type": "code",
   "execution_count": 24,
   "outputs": [],
   "source": [
    "# For now, we don't care about recovered users.\n",
    "df = df.loc[df['label'] != 2]"
   ],
   "metadata": {
    "collapsed": false,
    "ExecuteTime": {
     "end_time": "2023-10-05T21:09:46.259822Z",
     "start_time": "2023-10-05T21:09:46.221923300Z"
    }
   }
  },
  {
   "cell_type": "code",
   "execution_count": 26,
   "outputs": [],
   "source": [
    "df.to_csv('../processed_data/full_set.csv')"
   ],
   "metadata": {
    "collapsed": false,
    "ExecuteTime": {
     "end_time": "2023-10-05T21:10:35.452862700Z",
     "start_time": "2023-10-05T21:10:30.649715900Z"
    }
   }
  },
  {
   "cell_type": "code",
   "execution_count": 27,
   "outputs": [],
   "source": [
    "\"\"\"\n",
    "The class is highly imbalanced, around 40:1.\n",
    "We also create a balanced setting.\n",
    "\"\"\"\n",
    "df_sample = df[df['label'] == 1]\n",
    "df_sample = pd.concat([df_sample, df.sample(3000)]).drop_duplicates()\n",
    "df_sample.to_csv('../processed_data/sample_set.csv')"
   ],
   "metadata": {
    "collapsed": false,
    "ExecuteTime": {
     "end_time": "2023-10-05T21:10:35.782775700Z",
     "start_time": "2023-10-05T21:10:35.452862700Z"
    }
   }
  }
 ],
 "metadata": {
  "kernelspec": {
   "display_name": "Python 3",
   "language": "python",
   "name": "python3"
  },
  "language_info": {
   "codemirror_mode": {
    "name": "ipython",
    "version": 2
   },
   "file_extension": ".py",
   "mimetype": "text/x-python",
   "name": "python",
   "nbconvert_exporter": "python",
   "pygments_lexer": "ipython2",
   "version": "2.7.6"
  }
 },
 "nbformat": 4,
 "nbformat_minor": 0
}
